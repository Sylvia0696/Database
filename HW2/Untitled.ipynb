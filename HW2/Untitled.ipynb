{
 "cells": [
  {
   "cell_type": "code",
   "execution_count": 3,
   "metadata": {},
   "outputs": [],
   "source": [
    "import pymysql\n",
    "import json\n",
    "\n",
    "cnx = pymysql.connect(host='localhost',\n",
    "                              user='root',\n",
    "                              password='rzy19680722',\n",
    "                              db='HW2',\n",
    "                              charset='utf8mb4',\n",
    "                              cursorclass=pymysql.cursors.DictCursor)\n",
    "\n",
    "\n",
    "def run_q(q, args, fetch=False):\n",
    "    cursor = cnx.cursor()\n",
    "    cursor.execute(q, args)\n",
    "    if fetch:\n",
    "        result = cursor.fetchall()\n",
    "    else:\n",
    "        result = None\n",
    "    cnx.commit()\n",
    "    return result\n",
    "\n",
    "\n",
    "\n",
    "def find_by_template(table, template, fields=None):\n",
    "    q = \"SELECT \"\n",
    "    if fields == None:\n",
    "        q += \"* \"\n",
    "    else:\n",
    "        for field in fields:\n",
    "            q += field + \",\"\n",
    "        q = q[:-1]\n",
    "    q += \" FROM \" + table + \" WHERE \"\n",
    "    for k, v in template.items():\n",
    "        q += k + \" = \"+ \"'\" + v + \"'\" + \" AND \"\n",
    "    q = q[:-5]\n",
    "    q += \";\"\n",
    "    print(q)\n",
    "\n",
    "    result = run_q(q, None, True)\n",
    "    return result\n"
   ]
  },
  {
   "cell_type": "code",
   "execution_count": 9,
   "metadata": {},
   "outputs": [
    {
     "name": "stdout",
     "output_type": "stream",
     "text": [
      "SELECT *  FROM People WHERE playerID = 'aardsda01';\n"
     ]
    },
    {
     "data": {
      "text/plain": [
       "[{'playerID': 'aardsda01',\n",
       "  'birthYear': '1981',\n",
       "  'birthMonth': '12',\n",
       "  'birthDay': '27',\n",
       "  'birthCountry': 'USA',\n",
       "  'birthState': 'CO',\n",
       "  'birthCity': 'Denver',\n",
       "  'deathYear': '',\n",
       "  'deathMonth': '',\n",
       "  'deathDay': '',\n",
       "  'deathCountry': '',\n",
       "  'deathState': '',\n",
       "  'deathCity': '',\n",
       "  'nameFirst': 'David',\n",
       "  'nameLast': 'Aardsma',\n",
       "  'nameGiven': 'David Allan',\n",
       "  'weight': '215',\n",
       "  'height': '75',\n",
       "  'bats': 'R',\n",
       "  'throws': 'R',\n",
       "  'debut': '2004-04-06',\n",
       "  'finalGame': '2015-08-23',\n",
       "  'retroID': 'aardd001',\n",
       "  'bbrefID': 'aardsda01'}]"
      ]
     },
     "execution_count": 9,
     "metadata": {},
     "output_type": "execute_result"
    }
   ],
   "source": [
    "find_by_template(\"People\",{\"playerID\": \"aardsda01\"})"
   ]
  },
  {
   "cell_type": "code",
   "execution_count": null,
   "metadata": {},
   "outputs": [],
   "source": []
  }
 ],
 "metadata": {
  "kernelspec": {
   "display_name": "Python 3",
   "language": "python",
   "name": "python3"
  },
  "language_info": {
   "codemirror_mode": {
    "name": "ipython",
    "version": 3
   },
   "file_extension": ".py",
   "mimetype": "text/x-python",
   "name": "python",
   "nbconvert_exporter": "python",
   "pygments_lexer": "ipython3",
   "version": "3.6.5"
  }
 },
 "nbformat": 4,
 "nbformat_minor": 2
}
